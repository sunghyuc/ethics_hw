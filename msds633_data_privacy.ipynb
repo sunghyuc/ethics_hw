{
 "cells": [
  {
   "attachments": {},
   "cell_type": "markdown",
   "metadata": {},
   "source": [
    "## Name: {James Chung}\n",
    "\n",
    "## Homework 3: Data Security & Privacy\n",
    "\n",
    "## Grading Rubric\n",
    "\n",
    "Questions 1-4 are worth **3 points total**.  \n",
    "Question 5 is worth **7 points**.  \n",
    "Total: **10 points**\n",
    "\n",
    "## Tools\n",
    "\n",
    "#### Libraries:\n",
    "  \n",
    "- pandas and numpy: for data processing \n",
    "- seaborn and matplotlib: for plotting  \n",
    "- sklearn: for models\n",
    "- diffprivlib: differential privacy examples\n",
    "\n",
    "#### Datasets:\n",
    "\n",
    "[Apple Watch](https://www.kaggle.com/datasets/aleespinosa/apple-watch-and-fitbit-data/data)\n",
    "\n",
    "Fuller, Daniel. (2020) Replication Data for: Using machine learning methods to predict physical activity types with Apple Watch and Fitbit data using indirect calorimetry as the criterion. Harvard Dataverse. [doi: 10.7910/DVN/ZS2Z2J](https://doi.org/10.7910/DVN/ZS2Z2J) \n",
    "\n",
    "## Table of Contents\n",
    "\n",
    "* [1. Apple Watch Data Exploration](#one)\n",
    "* [2. Centralized Statistics and Models](#two)\n",
    "* [3. Differential Privacy Statistics](#three)\n",
    "* [4. Federated Models](#four)\n",
    "* [5. Conclusion](#five)\n",
    "\n",
    "## Goals\n",
    "\n",
    "In this assignment we explore the concepts of differential privacy (DP) and federated learning (FL) on a simple example dataset of Apple Watch data for multiple users. We will see how we can use DP to generate statistics and summaries of the data in a way that protects the raw data. Then we will use FL to train a model using each individual's Apple Watch data independently, as if that data were stored on each individual's device, and not centralized. Training a good model is **not** the point of this exercise, however, this data was collected, cleaned, processed, and modeled as part of an experiment, which you can read about [here](https://assets.researchsquare.com/files/rs-17022/v1/d5923374-d56c-4fe7-a036-949ecf41917e.pdf?c=1631831698) if you'd like. \n",
    "\n",
    "At the end of this assignment, we will be more familiar with DP and FL. Note that this simple notebook is not enough to encapsulate all of the challenges with these topics. They are both very complex, so much so that many companies have not bothered to try implementing them.\n",
    "\n",
    "## Setup\n",
    "\n",
    "First, let's load the libraries. Remember to install any libraries not already installed."
   ]
  },
  {
   "cell_type": "code",
   "execution_count": 12,
   "metadata": {},
   "outputs": [],
   "source": [
    "# !pip install -q diffprivlib"
   ]
  },
  {
   "cell_type": "code",
   "execution_count": 24,
   "metadata": {},
   "outputs": [],
   "source": [
    "import numpy as np\n",
    "import pandas as pd\n",
    "import diffprivlib as dp\n",
    "import matplotlib.pyplot as plt\n",
    "from sklearn.preprocessing import StandardScaler, LabelEncoder\n",
    "from sklearn.model_selection import train_test_split\n",
    "from sklearn.metrics import roc_auc_score\n",
    "from sklearn.linear_model import LogisticRegression"
   ]
  },
  {
   "attachments": {},
   "cell_type": "markdown",
   "metadata": {},
   "source": [
    "## 1. Apple Watch Data Exploration <a id=\"one\"></a>\n",
    "\n",
    "First we will load the data and quickly take a look at it to get a better understanding. We do not need to generate any summary statistics or histograms yet, we will do that in the next section. For more details on how this dataset was created, see [this](https://assets.researchsquare.com/files/rs-17022/v1/d5923374-d56c-4fe7-a036-949ecf41917e.pdf?c=1631831698).\n",
    "\n",
    "The data does not come with a unique identifier, so we will create one using the age, gender and height of the individuals under the assumption that no individual aged or got taller or shorter during the time this data was collected, and that no two individuals have identical ages, genders and heights. In future sections we will want to train some models, predicting the `activity_trimmed` column based on the user's watch measurements and their age, gender, height, and weight (which we might say are *sensitive* characteristics)."
   ]
  },
  {
   "cell_type": "code",
   "execution_count": 14,
   "metadata": {},
   "outputs": [
    {
     "data": {
      "text/html": [
       "<div>\n",
       "<style scoped>\n",
       "    .dataframe tbody tr th:only-of-type {\n",
       "        vertical-align: middle;\n",
       "    }\n",
       "\n",
       "    .dataframe tbody tr th {\n",
       "        vertical-align: top;\n",
       "    }\n",
       "\n",
       "    .dataframe thead th {\n",
       "        text-align: right;\n",
       "    }\n",
       "</style>\n",
       "<table border=\"1\" class=\"dataframe\">\n",
       "  <thead>\n",
       "    <tr style=\"text-align: right;\">\n",
       "      <th></th>\n",
       "      <th>Unnamed: 0</th>\n",
       "      <th>age</th>\n",
       "      <th>gender</th>\n",
       "      <th>height</th>\n",
       "      <th>weight</th>\n",
       "      <th>Applewatch.Steps_LE</th>\n",
       "      <th>Applewatch.Heart_LE</th>\n",
       "      <th>Applewatch.Calories_LE</th>\n",
       "      <th>Applewatch.Distance_LE</th>\n",
       "      <th>EntropyApplewatchHeartPerDay_LE</th>\n",
       "      <th>EntropyApplewatchStepsPerDay_LE</th>\n",
       "      <th>RestingApplewatchHeartrate_LE</th>\n",
       "      <th>CorrelationApplewatchHeartrateSteps_LE</th>\n",
       "      <th>NormalizedApplewatchHeartrate_LE</th>\n",
       "      <th>ApplewatchIntensity_LE</th>\n",
       "      <th>SDNormalizedApplewatchHR_LE</th>\n",
       "      <th>ApplewatchStepsXDistance_LE</th>\n",
       "      <th>activity_trimmed</th>\n",
       "    </tr>\n",
       "  </thead>\n",
       "  <tbody>\n",
       "    <tr>\n",
       "      <th>0</th>\n",
       "      <td>1</td>\n",
       "      <td>20</td>\n",
       "      <td>1</td>\n",
       "      <td>168.0</td>\n",
       "      <td>65.4</td>\n",
       "      <td>10.771429</td>\n",
       "      <td>78.531302</td>\n",
       "      <td>0.344533</td>\n",
       "      <td>0.008327</td>\n",
       "      <td>6.221612</td>\n",
       "      <td>6.116349</td>\n",
       "      <td>59.0</td>\n",
       "      <td>1.000000</td>\n",
       "      <td>19.531302</td>\n",
       "      <td>0.138520</td>\n",
       "      <td>1.000000</td>\n",
       "      <td>0.089692</td>\n",
       "      <td>Lying</td>\n",
       "    </tr>\n",
       "    <tr>\n",
       "      <th>1</th>\n",
       "      <td>2</td>\n",
       "      <td>20</td>\n",
       "      <td>1</td>\n",
       "      <td>168.0</td>\n",
       "      <td>65.4</td>\n",
       "      <td>11.475325</td>\n",
       "      <td>78.453390</td>\n",
       "      <td>3.287625</td>\n",
       "      <td>0.008896</td>\n",
       "      <td>6.221612</td>\n",
       "      <td>6.116349</td>\n",
       "      <td>59.0</td>\n",
       "      <td>1.000000</td>\n",
       "      <td>19.453390</td>\n",
       "      <td>0.137967</td>\n",
       "      <td>1.000000</td>\n",
       "      <td>0.102088</td>\n",
       "      <td>Lying</td>\n",
       "    </tr>\n",
       "    <tr>\n",
       "      <th>2</th>\n",
       "      <td>3</td>\n",
       "      <td>20</td>\n",
       "      <td>1</td>\n",
       "      <td>168.0</td>\n",
       "      <td>65.4</td>\n",
       "      <td>12.179221</td>\n",
       "      <td>78.540825</td>\n",
       "      <td>9.484000</td>\n",
       "      <td>0.009466</td>\n",
       "      <td>6.221612</td>\n",
       "      <td>6.116349</td>\n",
       "      <td>59.0</td>\n",
       "      <td>1.000000</td>\n",
       "      <td>19.540825</td>\n",
       "      <td>0.138587</td>\n",
       "      <td>1.000000</td>\n",
       "      <td>0.115287</td>\n",
       "      <td>Lying</td>\n",
       "    </tr>\n",
       "    <tr>\n",
       "      <th>3</th>\n",
       "      <td>4</td>\n",
       "      <td>20</td>\n",
       "      <td>1</td>\n",
       "      <td>168.0</td>\n",
       "      <td>65.4</td>\n",
       "      <td>12.883117</td>\n",
       "      <td>78.628260</td>\n",
       "      <td>10.154556</td>\n",
       "      <td>0.010035</td>\n",
       "      <td>6.221612</td>\n",
       "      <td>6.116349</td>\n",
       "      <td>59.0</td>\n",
       "      <td>1.000000</td>\n",
       "      <td>19.628260</td>\n",
       "      <td>0.139208</td>\n",
       "      <td>1.000000</td>\n",
       "      <td>0.129286</td>\n",
       "      <td>Lying</td>\n",
       "    </tr>\n",
       "    <tr>\n",
       "      <th>4</th>\n",
       "      <td>5</td>\n",
       "      <td>20</td>\n",
       "      <td>1</td>\n",
       "      <td>168.0</td>\n",
       "      <td>65.4</td>\n",
       "      <td>13.587013</td>\n",
       "      <td>78.715695</td>\n",
       "      <td>10.825111</td>\n",
       "      <td>0.010605</td>\n",
       "      <td>6.221612</td>\n",
       "      <td>6.116349</td>\n",
       "      <td>59.0</td>\n",
       "      <td>0.982816</td>\n",
       "      <td>19.715695</td>\n",
       "      <td>0.139828</td>\n",
       "      <td>0.241567</td>\n",
       "      <td>0.144088</td>\n",
       "      <td>Lying</td>\n",
       "    </tr>\n",
       "  </tbody>\n",
       "</table>\n",
       "</div>"
      ],
      "text/plain": [
       "   Unnamed: 0  age  gender  height  weight  Applewatch.Steps_LE  \\\n",
       "0           1   20       1   168.0    65.4            10.771429   \n",
       "1           2   20       1   168.0    65.4            11.475325   \n",
       "2           3   20       1   168.0    65.4            12.179221   \n",
       "3           4   20       1   168.0    65.4            12.883117   \n",
       "4           5   20       1   168.0    65.4            13.587013   \n",
       "\n",
       "   Applewatch.Heart_LE  Applewatch.Calories_LE  Applewatch.Distance_LE  \\\n",
       "0            78.531302                0.344533                0.008327   \n",
       "1            78.453390                3.287625                0.008896   \n",
       "2            78.540825                9.484000                0.009466   \n",
       "3            78.628260               10.154556                0.010035   \n",
       "4            78.715695               10.825111                0.010605   \n",
       "\n",
       "   EntropyApplewatchHeartPerDay_LE  EntropyApplewatchStepsPerDay_LE  \\\n",
       "0                         6.221612                         6.116349   \n",
       "1                         6.221612                         6.116349   \n",
       "2                         6.221612                         6.116349   \n",
       "3                         6.221612                         6.116349   \n",
       "4                         6.221612                         6.116349   \n",
       "\n",
       "   RestingApplewatchHeartrate_LE  CorrelationApplewatchHeartrateSteps_LE  \\\n",
       "0                           59.0                                1.000000   \n",
       "1                           59.0                                1.000000   \n",
       "2                           59.0                                1.000000   \n",
       "3                           59.0                                1.000000   \n",
       "4                           59.0                                0.982816   \n",
       "\n",
       "   NormalizedApplewatchHeartrate_LE  ApplewatchIntensity_LE  \\\n",
       "0                         19.531302                0.138520   \n",
       "1                         19.453390                0.137967   \n",
       "2                         19.540825                0.138587   \n",
       "3                         19.628260                0.139208   \n",
       "4                         19.715695                0.139828   \n",
       "\n",
       "   SDNormalizedApplewatchHR_LE  ApplewatchStepsXDistance_LE activity_trimmed  \n",
       "0                     1.000000                     0.089692            Lying  \n",
       "1                     1.000000                     0.102088            Lying  \n",
       "2                     1.000000                     0.115287            Lying  \n",
       "3                     1.000000                     0.129286            Lying  \n",
       "4                     0.241567                     0.144088            Lying  "
      ]
     },
     "execution_count": 14,
     "metadata": {},
     "output_type": "execute_result"
    }
   ],
   "source": [
    "data_path = 'data_for_weka_aw.csv'\n",
    "data = pd.read_csv(data_path)\n",
    "data.head()"
   ]
  },
  {
   "cell_type": "code",
   "execution_count": 15,
   "metadata": {},
   "outputs": [
    {
     "data": {
      "text/plain": [
       "(47,)"
      ]
     },
     "execution_count": 15,
     "metadata": {},
     "output_type": "execute_result"
    }
   ],
   "source": [
    "# Create the id column for users\n",
    "data['id'] = data.apply(lambda row: '_'.join([str(row.age), str(row.gender), str(row.height)]), axis=1)\n",
    "data.drop(columns = 'Unnamed: 0', inplace = True)\n",
    "data.id.unique().shape"
   ]
  },
  {
   "attachments": {},
   "cell_type": "markdown",
   "metadata": {},
   "source": [
    "**Question 1a:** Why would an Apple Watch user want to preserve their privacy?  \n",
    "\n",
    "**Answer:** It is the same reason as any user on any website would like to maintain their privacy. If data privacy is breached, many problems can break, e.g. a user can be subject to by unwanted targetted advertisements.\n",
    "\n",
    "**Question 1b:** What data might be collected that a user may not want in the hands of a \"bad actor\" or a company? Note that this dataset we're using here only contains a sampling of what could technically be collected.\n",
    "\n",
    "**Answer:** heart rate, steps per day, weight, activity_trimmed"
   ]
  },
  {
   "attachments": {},
   "cell_type": "markdown",
   "metadata": {},
   "source": [
    "## 2. Centralized Statistics and Models<a id=\"two\"></a>\n",
    "\n",
    "In this section, let's pretend that we do not care about data privacy, and let's use the entire centralized collection of raw data to generate summary statistics, histograms, and a model. We'll use these results to compare against the results that we get when we use DP and FL. We do not need to generate summary stats and histograms for all columns, we'll just pick a couple of them to focus on."
   ]
  },
  {
   "cell_type": "code",
   "execution_count": 16,
   "metadata": {},
   "outputs": [
    {
     "data": {
      "text/html": [
       "<div>\n",
       "<style scoped>\n",
       "    .dataframe tbody tr th:only-of-type {\n",
       "        vertical-align: middle;\n",
       "    }\n",
       "\n",
       "    .dataframe tbody tr th {\n",
       "        vertical-align: top;\n",
       "    }\n",
       "\n",
       "    .dataframe thead th {\n",
       "        text-align: right;\n",
       "    }\n",
       "</style>\n",
       "<table border=\"1\" class=\"dataframe\">\n",
       "  <thead>\n",
       "    <tr style=\"text-align: right;\">\n",
       "      <th></th>\n",
       "      <th>age</th>\n",
       "      <th>gender</th>\n",
       "      <th>height</th>\n",
       "      <th>weight</th>\n",
       "      <th>Applewatch.Steps_LE</th>\n",
       "      <th>Applewatch.Heart_LE</th>\n",
       "      <th>Applewatch.Calories_LE</th>\n",
       "      <th>Applewatch.Distance_LE</th>\n",
       "      <th>EntropyApplewatchHeartPerDay_LE</th>\n",
       "      <th>EntropyApplewatchStepsPerDay_LE</th>\n",
       "      <th>RestingApplewatchHeartrate_LE</th>\n",
       "      <th>CorrelationApplewatchHeartrateSteps_LE</th>\n",
       "      <th>NormalizedApplewatchHeartrate_LE</th>\n",
       "      <th>ApplewatchIntensity_LE</th>\n",
       "      <th>SDNormalizedApplewatchHR_LE</th>\n",
       "      <th>ApplewatchStepsXDistance_LE</th>\n",
       "    </tr>\n",
       "  </thead>\n",
       "  <tbody>\n",
       "    <tr>\n",
       "      <th>count</th>\n",
       "      <td>3656.000000</td>\n",
       "      <td>3656.000000</td>\n",
       "      <td>3656.000000</td>\n",
       "      <td>3656.000000</td>\n",
       "      <td>3656.000000</td>\n",
       "      <td>3656.000000</td>\n",
       "      <td>3656.000000</td>\n",
       "      <td>3656.000000</td>\n",
       "      <td>3656.000000</td>\n",
       "      <td>3656.000000</td>\n",
       "      <td>3656.000000</td>\n",
       "      <td>3656.000000</td>\n",
       "      <td>3656.000000</td>\n",
       "      <td>3656.000000</td>\n",
       "      <td>3656.000000</td>\n",
       "      <td>3656.000000</td>\n",
       "    </tr>\n",
       "    <tr>\n",
       "      <th>mean</th>\n",
       "      <td>29.408096</td>\n",
       "      <td>0.473468</td>\n",
       "      <td>169.879595</td>\n",
       "      <td>70.611461</td>\n",
       "      <td>180.246421</td>\n",
       "      <td>91.250821</td>\n",
       "      <td>5.783917</td>\n",
       "      <td>0.084236</td>\n",
       "      <td>6.123775</td>\n",
       "      <td>6.053414</td>\n",
       "      <td>68.374613</td>\n",
       "      <td>0.006167</td>\n",
       "      <td>22.876208</td>\n",
       "      <td>0.191443</td>\n",
       "      <td>8.847003</td>\n",
       "      <td>39.661894</td>\n",
       "    </tr>\n",
       "    <tr>\n",
       "      <th>std</th>\n",
       "      <td>9.037922</td>\n",
       "      <td>0.499364</td>\n",
       "      <td>10.428342</td>\n",
       "      <td>14.124498</td>\n",
       "      <td>269.437917</td>\n",
       "      <td>26.753167</td>\n",
       "      <td>7.278513</td>\n",
       "      <td>0.136905</td>\n",
       "      <td>0.215706</td>\n",
       "      <td>0.176805</td>\n",
       "      <td>11.929595</td>\n",
       "      <td>0.741244</td>\n",
       "      <td>23.967587</td>\n",
       "      <td>0.205107</td>\n",
       "      <td>10.076715</td>\n",
       "      <td>112.409742</td>\n",
       "    </tr>\n",
       "    <tr>\n",
       "      <th>min</th>\n",
       "      <td>18.000000</td>\n",
       "      <td>0.000000</td>\n",
       "      <td>143.000000</td>\n",
       "      <td>43.000000</td>\n",
       "      <td>1.000000</td>\n",
       "      <td>33.000000</td>\n",
       "      <td>0.056269</td>\n",
       "      <td>0.000440</td>\n",
       "      <td>5.118769</td>\n",
       "      <td>5.655310</td>\n",
       "      <td>34.153846</td>\n",
       "      <td>-1.000000</td>\n",
       "      <td>-31.531302</td>\n",
       "      <td>-0.270728</td>\n",
       "      <td>0.003231</td>\n",
       "      <td>0.000690</td>\n",
       "    </tr>\n",
       "    <tr>\n",
       "      <th>25%</th>\n",
       "      <td>23.000000</td>\n",
       "      <td>0.000000</td>\n",
       "      <td>160.000000</td>\n",
       "      <td>60.500000</td>\n",
       "      <td>10.771429</td>\n",
       "      <td>75.457510</td>\n",
       "      <td>0.459917</td>\n",
       "      <td>0.007865</td>\n",
       "      <td>6.075165</td>\n",
       "      <td>5.909440</td>\n",
       "      <td>60.000000</td>\n",
       "      <td>-0.737777</td>\n",
       "      <td>5.800000</td>\n",
       "      <td>0.048140</td>\n",
       "      <td>1.682028</td>\n",
       "      <td>0.089692</td>\n",
       "    </tr>\n",
       "    <tr>\n",
       "      <th>50%</th>\n",
       "      <td>28.000000</td>\n",
       "      <td>0.000000</td>\n",
       "      <td>168.000000</td>\n",
       "      <td>70.000000</td>\n",
       "      <td>60.133571</td>\n",
       "      <td>83.624783</td>\n",
       "      <td>0.756000</td>\n",
       "      <td>0.030825</td>\n",
       "      <td>6.175485</td>\n",
       "      <td>6.084968</td>\n",
       "      <td>69.600000</td>\n",
       "      <td>0.008458</td>\n",
       "      <td>15.436350</td>\n",
       "      <td>0.125506</td>\n",
       "      <td>5.201685</td>\n",
       "      <td>2.057531</td>\n",
       "    </tr>\n",
       "    <tr>\n",
       "      <th>75%</th>\n",
       "      <td>33.000000</td>\n",
       "      <td>1.000000</td>\n",
       "      <td>180.000000</td>\n",
       "      <td>79.300000</td>\n",
       "      <td>203.273333</td>\n",
       "      <td>102.517857</td>\n",
       "      <td>13.807992</td>\n",
       "      <td>0.080943</td>\n",
       "      <td>6.228819</td>\n",
       "      <td>6.189825</td>\n",
       "      <td>78.456592</td>\n",
       "      <td>0.776200</td>\n",
       "      <td>30.716270</td>\n",
       "      <td>0.259667</td>\n",
       "      <td>12.124746</td>\n",
       "      <td>15.240782</td>\n",
       "    </tr>\n",
       "    <tr>\n",
       "      <th>max</th>\n",
       "      <td>56.000000</td>\n",
       "      <td>1.000000</td>\n",
       "      <td>191.000000</td>\n",
       "      <td>115.000000</td>\n",
       "      <td>1714.000000</td>\n",
       "      <td>194.333333</td>\n",
       "      <td>29.242000</td>\n",
       "      <td>1.087790</td>\n",
       "      <td>6.408318</td>\n",
       "      <td>6.409391</td>\n",
       "      <td>97.000000</td>\n",
       "      <td>1.000000</td>\n",
       "      <td>128.500000</td>\n",
       "      <td>1.297980</td>\n",
       "      <td>56.138088</td>\n",
       "      <td>1721.421620</td>\n",
       "    </tr>\n",
       "  </tbody>\n",
       "</table>\n",
       "</div>"
      ],
      "text/plain": [
       "               age       gender       height       weight  \\\n",
       "count  3656.000000  3656.000000  3656.000000  3656.000000   \n",
       "mean     29.408096     0.473468   169.879595    70.611461   \n",
       "std       9.037922     0.499364    10.428342    14.124498   \n",
       "min      18.000000     0.000000   143.000000    43.000000   \n",
       "25%      23.000000     0.000000   160.000000    60.500000   \n",
       "50%      28.000000     0.000000   168.000000    70.000000   \n",
       "75%      33.000000     1.000000   180.000000    79.300000   \n",
       "max      56.000000     1.000000   191.000000   115.000000   \n",
       "\n",
       "       Applewatch.Steps_LE  Applewatch.Heart_LE  Applewatch.Calories_LE  \\\n",
       "count          3656.000000          3656.000000             3656.000000   \n",
       "mean            180.246421            91.250821                5.783917   \n",
       "std             269.437917            26.753167                7.278513   \n",
       "min               1.000000            33.000000                0.056269   \n",
       "25%              10.771429            75.457510                0.459917   \n",
       "50%              60.133571            83.624783                0.756000   \n",
       "75%             203.273333           102.517857               13.807992   \n",
       "max            1714.000000           194.333333               29.242000   \n",
       "\n",
       "       Applewatch.Distance_LE  EntropyApplewatchHeartPerDay_LE  \\\n",
       "count             3656.000000                      3656.000000   \n",
       "mean                 0.084236                         6.123775   \n",
       "std                  0.136905                         0.215706   \n",
       "min                  0.000440                         5.118769   \n",
       "25%                  0.007865                         6.075165   \n",
       "50%                  0.030825                         6.175485   \n",
       "75%                  0.080943                         6.228819   \n",
       "max                  1.087790                         6.408318   \n",
       "\n",
       "       EntropyApplewatchStepsPerDay_LE  RestingApplewatchHeartrate_LE  \\\n",
       "count                      3656.000000                    3656.000000   \n",
       "mean                          6.053414                      68.374613   \n",
       "std                           0.176805                      11.929595   \n",
       "min                           5.655310                      34.153846   \n",
       "25%                           5.909440                      60.000000   \n",
       "50%                           6.084968                      69.600000   \n",
       "75%                           6.189825                      78.456592   \n",
       "max                           6.409391                      97.000000   \n",
       "\n",
       "       CorrelationApplewatchHeartrateSteps_LE  \\\n",
       "count                             3656.000000   \n",
       "mean                                 0.006167   \n",
       "std                                  0.741244   \n",
       "min                                 -1.000000   \n",
       "25%                                 -0.737777   \n",
       "50%                                  0.008458   \n",
       "75%                                  0.776200   \n",
       "max                                  1.000000   \n",
       "\n",
       "       NormalizedApplewatchHeartrate_LE  ApplewatchIntensity_LE  \\\n",
       "count                       3656.000000             3656.000000   \n",
       "mean                          22.876208                0.191443   \n",
       "std                           23.967587                0.205107   \n",
       "min                          -31.531302               -0.270728   \n",
       "25%                            5.800000                0.048140   \n",
       "50%                           15.436350                0.125506   \n",
       "75%                           30.716270                0.259667   \n",
       "max                          128.500000                1.297980   \n",
       "\n",
       "       SDNormalizedApplewatchHR_LE  ApplewatchStepsXDistance_LE  \n",
       "count                  3656.000000                  3656.000000  \n",
       "mean                      8.847003                    39.661894  \n",
       "std                      10.076715                   112.409742  \n",
       "min                       0.003231                     0.000690  \n",
       "25%                       1.682028                     0.089692  \n",
       "50%                       5.201685                     2.057531  \n",
       "75%                      12.124746                    15.240782  \n",
       "max                      56.138088                  1721.421620  "
      ]
     },
     "execution_count": 16,
     "metadata": {},
     "output_type": "execute_result"
    }
   ],
   "source": [
    "data.describe()"
   ]
  },
  {
   "cell_type": "code",
   "execution_count": 17,
   "metadata": {},
   "outputs": [
    {
     "data": {
      "text/html": [
       "<div>\n",
       "<style scoped>\n",
       "    .dataframe tbody tr th:only-of-type {\n",
       "        vertical-align: middle;\n",
       "    }\n",
       "\n",
       "    .dataframe tbody tr th {\n",
       "        vertical-align: top;\n",
       "    }\n",
       "\n",
       "    .dataframe thead th {\n",
       "        text-align: right;\n",
       "    }\n",
       "</style>\n",
       "<table border=\"1\" class=\"dataframe\">\n",
       "  <thead>\n",
       "    <tr style=\"text-align: right;\">\n",
       "      <th></th>\n",
       "      <th>Applewatch.Steps_LE</th>\n",
       "      <th>Applewatch.Heart_LE</th>\n",
       "    </tr>\n",
       "  </thead>\n",
       "  <tbody>\n",
       "    <tr>\n",
       "      <th>mean</th>\n",
       "      <td>180.246421</td>\n",
       "      <td>91.250821</td>\n",
       "    </tr>\n",
       "    <tr>\n",
       "      <th>median</th>\n",
       "      <td>60.133571</td>\n",
       "      <td>83.624783</td>\n",
       "    </tr>\n",
       "  </tbody>\n",
       "</table>\n",
       "</div>"
      ],
      "text/plain": [
       "        Applewatch.Steps_LE  Applewatch.Heart_LE\n",
       "mean             180.246421            91.250821\n",
       "median            60.133571            83.624783"
      ]
     },
     "execution_count": 17,
     "metadata": {},
     "output_type": "execute_result"
    }
   ],
   "source": [
    "# select any two columns you want\n",
    "column_names = ['Applewatch.Steps_LE', 'Applewatch.Heart_LE']\n",
    "\n",
    "# first we will look at the total mean and median values, and then we can grab the ones grouped by id\n",
    "all_stats = data[column_names].agg(['mean', 'median'])\n",
    "id_stats = data.groupby(['id'])[column_names].agg(['mean', 'median'])\n",
    "\n",
    "all_stats"
   ]
  },
  {
   "cell_type": "code",
   "execution_count": 18,
   "metadata": {},
   "outputs": [
    {
     "data": {
      "text/plain": [
       "array([[<Axes: title={'center': 'Applewatch.Steps_LE'}>,\n",
       "        <Axes: title={'center': 'Applewatch.Heart_LE'}>]], dtype=object)"
      ]
     },
     "execution_count": 18,
     "metadata": {},
     "output_type": "execute_result"
    },
    {
     "data": {
      "image/png": "[encoded data removed]",
      "text/plain": [
       "<Figure size 640x480 with 2 Axes>"
      ]
     },
     "metadata": {},
     "output_type": "display_data"
    }
   ],
   "source": [
    "data[column_names].hist()"
   ]
  },
  {
   "attachments": {},
   "cell_type": "markdown",
   "metadata": {},
   "source": [
    "Now we can train a very simplistic regularized logistic regression model on the centralized dataset. When we train the model, we want to easily compare it to a privacy-preserving version of the model that we will be training later, so let's simplify the data a little bit by bucketing our target variable, `activity_trimmed` into just two categories: `Still` and `Active`, and then we'll convert it to a binary (0,1) variable for classification. We also will not do any extensive feature selection, we can just do a quick LASSO model and select a few features to keep in the final model."
   ]
  },
  {
   "cell_type": "code",
   "execution_count": 19,
   "metadata": {},
   "outputs": [],
   "source": [
    "mapping = {\n",
    "    'Lying': 'Still',\n",
    "    'Sitting': 'Still',\n",
    "    'Self Pace walk': 'Active',\n",
    "    'Running 3 METs': 'Active',\n",
    "    'Running 5 METs': 'Active',\n",
    "    'Running 7 METs': 'Active'\n",
    "}\n",
    "\n",
    "# Apply the mapping to the 'my_column' column\n",
    "data['activity_binary'] = data['activity_trimmed'].map(mapping)"
   ]
  },
  {
   "cell_type": "code",
   "execution_count": 20,
   "metadata": {},
   "outputs": [
    {
     "name": "stdout",
     "output_type": "stream",
     "text": [
      "['Still' 'Active']\n",
      "[0 1]\n"
     ]
    }
   ],
   "source": [
    "le = LabelEncoder()\n",
    "lefit = le.fit(data['activity_binary'])\n",
    "activity=lefit.transform(data['activity_binary'])\n",
    "print(data['activity_binary'].unique())\n",
    "print(np.unique(activity))"
   ]
  },
  {
   "attachments": {},
   "cell_type": "markdown",
   "metadata": {},
   "source": [
    "Now we can create our feature (X) and target (y) data for modeling. We'll use a simple random train/test split even though we know that a user's data may end up in both sets, which may result in leakage. Like we said earlier, the goal here isn't to train a very good model. But, if we were doing this properly we might identify data from each user that we can use as an out-of-time test data set by choosing the most recently recorded data (unfortunately, datetime is not included in the dataset), and allow the model to train on a portion of each user's data. Or, maybe we exclude a sample of our users' data entirely from training and only include those users in the testing set to see if a model that is trained on one set of users can be used to predict on other sets of users. "
   ]
  },
  {
   "cell_type": "code",
   "execution_count": 21,
   "metadata": {},
   "outputs": [],
   "source": [
    "data['activity_binary']=activity\n",
    "target1 = data['activity_binary'] \n",
    "feature_data = data.drop(columns = ['id', 'activity_binary', 'activity_trimmed'])\n",
    "feature_data = data.drop(columns = ['activity_binary', 'activity_trimmed'])"
   ]
  },
  {
   "cell_type": "code",
   "execution_count": 22,
   "metadata": {},
   "outputs": [
    {
     "data": {
      "text/html": [
       "<div>\n",
       "<style scoped>\n",
       "    .dataframe tbody tr th:only-of-type {\n",
       "        vertical-align: middle;\n",
       "    }\n",
       "\n",
       "    .dataframe tbody tr th {\n",
       "        vertical-align: top;\n",
       "    }\n",
       "\n",
       "    .dataframe thead th {\n",
       "        text-align: right;\n",
       "    }\n",
       "</style>\n",
       "<table border=\"1\" class=\"dataframe\">\n",
       "  <thead>\n",
       "    <tr style=\"text-align: right;\">\n",
       "      <th></th>\n",
       "      <th>age</th>\n",
       "      <th>gender</th>\n",
       "      <th>height</th>\n",
       "      <th>weight</th>\n",
       "      <th>Applewatch.Steps_LE</th>\n",
       "      <th>Applewatch.Heart_LE</th>\n",
       "      <th>Applewatch.Calories_LE</th>\n",
       "      <th>Applewatch.Distance_LE</th>\n",
       "      <th>EntropyApplewatchHeartPerDay_LE</th>\n",
       "      <th>EntropyApplewatchStepsPerDay_LE</th>\n",
       "      <th>RestingApplewatchHeartrate_LE</th>\n",
       "      <th>CorrelationApplewatchHeartrateSteps_LE</th>\n",
       "      <th>NormalizedApplewatchHeartrate_LE</th>\n",
       "      <th>ApplewatchIntensity_LE</th>\n",
       "      <th>SDNormalizedApplewatchHR_LE</th>\n",
       "      <th>ApplewatchStepsXDistance_LE</th>\n",
       "      <th>id</th>\n",
       "    </tr>\n",
       "  </thead>\n",
       "  <tbody>\n",
       "    <tr>\n",
       "      <th>0</th>\n",
       "      <td>20</td>\n",
       "      <td>1</td>\n",
       "      <td>168.0</td>\n",
       "      <td>65.4</td>\n",
       "      <td>10.771429</td>\n",
       "      <td>78.531302</td>\n",
       "      <td>0.344533</td>\n",
       "      <td>0.008327</td>\n",
       "      <td>6.221612</td>\n",
       "      <td>6.116349</td>\n",
       "      <td>59.0</td>\n",
       "      <td>1.000000</td>\n",
       "      <td>19.531302</td>\n",
       "      <td>0.138520</td>\n",
       "      <td>1.000000</td>\n",
       "      <td>0.089692</td>\n",
       "      <td>20_1_168.0</td>\n",
       "    </tr>\n",
       "    <tr>\n",
       "      <th>1</th>\n",
       "      <td>20</td>\n",
       "      <td>1</td>\n",
       "      <td>168.0</td>\n",
       "      <td>65.4</td>\n",
       "      <td>11.475325</td>\n",
       "      <td>78.453390</td>\n",
       "      <td>3.287625</td>\n",
       "      <td>0.008896</td>\n",
       "      <td>6.221612</td>\n",
       "      <td>6.116349</td>\n",
       "      <td>59.0</td>\n",
       "      <td>1.000000</td>\n",
       "      <td>19.453390</td>\n",
       "      <td>0.137967</td>\n",
       "      <td>1.000000</td>\n",
       "      <td>0.102088</td>\n",
       "      <td>20_1_168.0</td>\n",
       "    </tr>\n",
       "    <tr>\n",
       "      <th>2</th>\n",
       "      <td>20</td>\n",
       "      <td>1</td>\n",
       "      <td>168.0</td>\n",
       "      <td>65.4</td>\n",
       "      <td>12.179221</td>\n",
       "      <td>78.540825</td>\n",
       "      <td>9.484000</td>\n",
       "      <td>0.009466</td>\n",
       "      <td>6.221612</td>\n",
       "      <td>6.116349</td>\n",
       "      <td>59.0</td>\n",
       "      <td>1.000000</td>\n",
       "      <td>19.540825</td>\n",
       "      <td>0.138587</td>\n",
       "      <td>1.000000</td>\n",
       "      <td>0.115287</td>\n",
       "      <td>20_1_168.0</td>\n",
       "    </tr>\n",
       "    <tr>\n",
       "      <th>3</th>\n",
       "      <td>20</td>\n",
       "      <td>1</td>\n",
       "      <td>168.0</td>\n",
       "      <td>65.4</td>\n",
       "      <td>12.883117</td>\n",
       "      <td>78.628260</td>\n",
       "      <td>10.154556</td>\n",
       "      <td>0.010035</td>\n",
       "      <td>6.221612</td>\n",
       "      <td>6.116349</td>\n",
       "      <td>59.0</td>\n",
       "      <td>1.000000</td>\n",
       "      <td>19.628260</td>\n",
       "      <td>0.139208</td>\n",
       "      <td>1.000000</td>\n",
       "      <td>0.129286</td>\n",
       "      <td>20_1_168.0</td>\n",
       "    </tr>\n",
       "    <tr>\n",
       "      <th>4</th>\n",
       "      <td>20</td>\n",
       "      <td>1</td>\n",
       "      <td>168.0</td>\n",
       "      <td>65.4</td>\n",
       "      <td>13.587013</td>\n",
       "      <td>78.715695</td>\n",
       "      <td>10.825111</td>\n",
       "      <td>0.010605</td>\n",
       "      <td>6.221612</td>\n",
       "      <td>6.116349</td>\n",
       "      <td>59.0</td>\n",
       "      <td>0.982816</td>\n",
       "      <td>19.715695</td>\n",
       "      <td>0.139828</td>\n",
       "      <td>0.241567</td>\n",
       "      <td>0.144088</td>\n",
       "      <td>20_1_168.0</td>\n",
       "    </tr>\n",
       "  </tbody>\n",
       "</table>\n",
       "</div>"
      ],
      "text/plain": [
       "   age  gender  height  weight  Applewatch.Steps_LE  Applewatch.Heart_LE  \\\n",
       "0   20       1   168.0    65.4            10.771429            78.531302   \n",
       "1   20       1   168.0    65.4            11.475325            78.453390   \n",
       "2   20       1   168.0    65.4            12.179221            78.540825   \n",
       "3   20       1   168.0    65.4            12.883117            78.628260   \n",
       "4   20       1   168.0    65.4            13.587013            78.715695   \n",
       "\n",
       "   Applewatch.Calories_LE  Applewatch.Distance_LE  \\\n",
       "0                0.344533                0.008327   \n",
       "1                3.287625                0.008896   \n",
       "2                9.484000                0.009466   \n",
       "3               10.154556                0.010035   \n",
       "4               10.825111                0.010605   \n",
       "\n",
       "   EntropyApplewatchHeartPerDay_LE  EntropyApplewatchStepsPerDay_LE  \\\n",
       "0                         6.221612                         6.116349   \n",
       "1                         6.221612                         6.116349   \n",
       "2                         6.221612                         6.116349   \n",
       "3                         6.221612                         6.116349   \n",
       "4                         6.221612                         6.116349   \n",
       "\n",
       "   RestingApplewatchHeartrate_LE  CorrelationApplewatchHeartrateSteps_LE  \\\n",
       "0                           59.0                                1.000000   \n",
       "1                           59.0                                1.000000   \n",
       "2                           59.0                                1.000000   \n",
       "3                           59.0                                1.000000   \n",
       "4                           59.0                                0.982816   \n",
       "\n",
       "   NormalizedApplewatchHeartrate_LE  ApplewatchIntensity_LE  \\\n",
       "0                         19.531302                0.138520   \n",
       "1                         19.453390                0.137967   \n",
       "2                         19.540825                0.138587   \n",
       "3                         19.628260                0.139208   \n",
       "4                         19.715695                0.139828   \n",
       "\n",
       "   SDNormalizedApplewatchHR_LE  ApplewatchStepsXDistance_LE          id  \n",
       "0                     1.000000                     0.089692  20_1_168.0  \n",
       "1                     1.000000                     0.102088  20_1_168.0  \n",
       "2                     1.000000                     0.115287  20_1_168.0  \n",
       "3                     1.000000                     0.129286  20_1_168.0  \n",
       "4                     0.241567                     0.144088  20_1_168.0  "
      ]
     },
     "execution_count": 22,
     "metadata": {},
     "output_type": "execute_result"
    }
   ],
   "source": [
    "feature_data.head()"
   ]
  },
  {
   "cell_type": "code",
   "execution_count": 26,
   "metadata": {},
   "outputs": [
    {
     "data": {
      "text/html": [
       "<style>#sk-container-id-2 {color: black;background-color: white;}#sk-container-id-2 pre{padding: 0;}#sk-container-id-2 div.sk-toggleable {background-color: white;}#sk-container-id-2 label.sk-toggleable__label {cursor: pointer;display: block;width: 100%;margin-bottom: 0;padding: 0.3em;box-sizing: border-box;text-align: center;}#sk-container-id-2 label.sk-toggleable__label-arrow:before {content: \"▸\";float: left;margin-right: 0.25em;color: #696969;}#sk-container-id-2 label.sk-toggleable__label-arrow:hover:before {color: black;}#sk-container-id-2 div.sk-estimator:hover label.sk-toggleable__label-arrow:before {color: black;}#sk-container-id-2 div.sk-toggleable__content {max-height: 0;max-width: 0;overflow: hidden;text-align: left;background-color: #f0f8ff;}#sk-container-id-2 div.sk-toggleable__content pre {margin: 0.2em;color: black;border-radius: 0.25em;background-color: #f0f8ff;}#sk-container-id-2 input.sk-toggleable__control:checked~div.sk-toggleable__content {max-height: 200px;max-width: 100%;overflow: auto;}#sk-container-id-2 input.sk-toggleable__control:checked~label.sk-toggleable__label-arrow:before {content: \"▾\";}#sk-container-id-2 div.sk-estimator input.sk-toggleable__control:checked~label.sk-toggleable__label {background-color: #d4ebff;}#sk-container-id-2 div.sk-label input.sk-toggleable__control:checked~label.sk-toggleable__label {background-color: #d4ebff;}#sk-container-id-2 input.sk-hidden--visually {border: 0;clip: rect(1px 1px 1px 1px);clip: rect(1px, 1px, 1px, 1px);height: 1px;margin: -1px;overflow: hidden;padding: 0;position: absolute;width: 1px;}#sk-container-id-2 div.sk-estimator {font-family: monospace;background-color: #f0f8ff;border: 1px dotted black;border-radius: 0.25em;box-sizing: border-box;margin-bottom: 0.5em;}#sk-container-id-2 div.sk-estimator:hover {background-color: #d4ebff;}#sk-container-id-2 div.sk-parallel-item::after {content: \"\";width: 100%;border-bottom: 1px solid gray;flex-grow: 1;}#sk-container-id-2 div.sk-label:hover label.sk-toggleable__label {background-color: #d4ebff;}#sk-container-id-2 div.sk-serial::before {content: \"\";position: absolute;border-left: 1px solid gray;box-sizing: border-box;top: 0;bottom: 0;left: 50%;z-index: 0;}#sk-container-id-2 div.sk-serial {display: flex;flex-direction: column;align-items: center;background-color: white;padding-right: 0.2em;padding-left: 0.2em;position: relative;}#sk-container-id-2 div.sk-item {position: relative;z-index: 1;}#sk-container-id-2 div.sk-parallel {display: flex;align-items: stretch;justify-content: center;background-color: white;position: relative;}#sk-container-id-2 div.sk-item::before, #sk-container-id-2 div.sk-parallel-item::before {content: \"\";position: absolute;border-left: 1px solid gray;box-sizing: border-box;top: 0;bottom: 0;left: 50%;z-index: -1;}#sk-container-id-2 div.sk-parallel-item {display: flex;flex-direction: column;z-index: 1;position: relative;background-color: white;}#sk-container-id-2 div.sk-parallel-item:first-child::after {align-self: flex-end;width: 50%;}#sk-container-id-2 div.sk-parallel-item:last-child::after {align-self: flex-start;width: 50%;}#sk-container-id-2 div.sk-parallel-item:only-child::after {width: 0;}#sk-container-id-2 div.sk-dashed-wrapped {border: 1px dashed gray;margin: 0 0.4em 0.5em 0.4em;box-sizing: border-box;padding-bottom: 0.4em;background-color: white;}#sk-container-id-2 div.sk-label label {font-family: monospace;font-weight: bold;display: inline-block;line-height: 1.2em;}#sk-container-id-2 div.sk-label-container {text-align: center;}#sk-container-id-2 div.sk-container {/* jupyter's `normalize.less` sets `[hidden] { display: none; }` but bootstrap.min.css set `[hidden] { display: none !important; }` so we also need the `!important` here to be able to override the default hidden behavior on the sphinx rendered scikit-learn.org. See: https://github.com/scikit-learn/scikit-learn/issues/21755 */display: inline-block !important;position: relative;}#sk-container-id-2 div.sk-text-repr-fallback {display: none;}</style><div id=\"sk-container-id-2\" class=\"sk-top-container\"><div class=\"sk-text-repr-fallback\"><pre>LogisticRegression(C=0.01, penalty=&#x27;l1&#x27;, solver=&#x27;liblinear&#x27;)</pre><b>In a Jupyter environment, please rerun this cell to show the HTML representation or trust the notebook. <br />On GitHub, the HTML representation is unable to render, please try loading this page with nbviewer.org.</b></div><div class=\"sk-container\" hidden><div class=\"sk-item\"><div class=\"sk-estimator sk-toggleable\"><input class=\"sk-toggleable__control sk-hidden--visually\" id=\"sk-estimator-id-2\" type=\"checkbox\" checked><label for=\"sk-estimator-id-2\" class=\"sk-toggleable__label sk-toggleable__label-arrow\">LogisticRegression</label><div class=\"sk-toggleable__content\"><pre>LogisticRegression(C=0.01, penalty=&#x27;l1&#x27;, solver=&#x27;liblinear&#x27;)</pre></div></div></div></div></div>"
      ],
      "text/plain": [
       "LogisticRegression(C=0.01, penalty='l1', solver='liblinear')"
      ]
     },
     "execution_count": 26,
     "metadata": {},
     "output_type": "execute_result"
    }
   ],
   "source": [
    "# create train/test splits\n",
    "X_train, X_test, y_train, y_test = train_test_split(feature_data, activity, test_size=0.2)\n",
    "\n",
    "X_train_id = X_train['id'] # useful for later when we do federated learning\n",
    "X_train = X_train.drop(columns='id')\n",
    "X_test = X_test.drop(columns='id')\n",
    "\n",
    "sc = StandardScaler()\n",
    "X_train = sc.fit_transform(X_train)\n",
    "X_test = sc.transform(X_test)\n",
    "\n",
    "# Create a logistic regression model with lasso regularization\n",
    "l_model = LogisticRegression(solver='liblinear', penalty='l1', C=.01)\n",
    "l_model.fit(X_train, y_train)"
   ]
  },
  {
   "attachments": {},
   "cell_type": "markdown",
   "metadata": {},
   "source": [
    "In the above model you can change the value of `C` in order to do more or less shrinkage of the coefficients and select a final set of features for the model, and then examine the coefficients and model performance on the test set below. In the model above I specifically chose a value for the shrinkage parameter that would lead to a sparse model, which will make it easier later when we compare to the output we get from a privacy-preserving model, but feel free to modify the code and rerun."
   ]
  },
  {
   "cell_type": "code",
   "execution_count": 27,
   "metadata": {},
   "outputs": [
    {
     "data": {
      "text/plain": [
       "array([[ 0.        ,  0.        ,  0.        ,  0.        ,  0.        ,\n",
       "         0.        ,  0.        ,  0.        ,  0.        ,  0.        ,\n",
       "         0.        ,  0.00220281, -0.01518471, -0.57394951,  0.05934722,\n",
       "         0.        ]])"
      ]
     },
     "execution_count": 27,
     "metadata": {},
     "output_type": "execute_result"
    }
   ],
   "source": [
    "l_model.coef_"
   ]
  },
  {
   "cell_type": "code",
   "execution_count": 28,
   "metadata": {},
   "outputs": [
    {
     "name": "stdout",
     "output_type": "stream",
     "text": [
      "All AUC scores: 0.6737850235556657\n"
     ]
    }
   ],
   "source": [
    "y_pred = l_model.predict_proba(X_test)\n",
    "auc_score = roc_auc_score(y_test, y_pred[:,1])\n",
    "\n",
    "# Print AUC score\n",
    "print(f\"All AUC scores: {auc_score}\")"
   ]
  },
  {
   "attachments": {},
   "cell_type": "markdown",
   "metadata": {},
   "source": [
    "## 3. Differential Privacy Statistics <a id=\"three\"></a>\n",
    "\n",
    "Now that we have our statistics and a trained model using the full dataset, with no privacy, we can compare the results with the results we would get using DP. We will only be using Central DP (CDP) in these examples, and will not do anything with Local DP (LDP). The difference between CDP and LDP is that with CDP we have a trusted central server that is responsible for taking any aggregates of the raw data (e.g. mean, median) and adding noise to the aggregates in order to avoid any leakage of the underlying data. With LDP, the noise is added before aggregating, on the client side, which reduces some risk of leakage, but also tends to result in less accurate summaries.\n",
    "\n",
    "There are many concepts and properties of DP that we will not be covering, such as sensitivity, $\\epsilon-\\delta$ DP, privacy budget, and the different randomization mechanisms we can use to add noise. If this is a topic that interests you, I encourage you to do more research. "
   ]
  },
  {
   "cell_type": "code",
   "execution_count": 29,
   "metadata": {},
   "outputs": [
    {
     "data": {
      "text/html": [
       "<div>\n",
       "<style scoped>\n",
       "    .dataframe tbody tr th:only-of-type {\n",
       "        vertical-align: middle;\n",
       "    }\n",
       "\n",
       "    .dataframe tbody tr th {\n",
       "        vertical-align: top;\n",
       "    }\n",
       "\n",
       "    .dataframe thead th {\n",
       "        text-align: right;\n",
       "    }\n",
       "</style>\n",
       "<table border=\"1\" class=\"dataframe\">\n",
       "  <thead>\n",
       "    <tr style=\"text-align: right;\">\n",
       "      <th></th>\n",
       "      <th>Applewatch.Steps_LE</th>\n",
       "      <th>Applewatch.Heart_LE</th>\n",
       "    </tr>\n",
       "  </thead>\n",
       "  <tbody>\n",
       "    <tr>\n",
       "      <th>count</th>\n",
       "      <td>3656.000000</td>\n",
       "      <td>3656.000000</td>\n",
       "    </tr>\n",
       "    <tr>\n",
       "      <th>mean</th>\n",
       "      <td>180.246421</td>\n",
       "      <td>91.250821</td>\n",
       "    </tr>\n",
       "    <tr>\n",
       "      <th>std</th>\n",
       "      <td>269.437917</td>\n",
       "      <td>26.753167</td>\n",
       "    </tr>\n",
       "    <tr>\n",
       "      <th>min</th>\n",
       "      <td>1.000000</td>\n",
       "      <td>33.000000</td>\n",
       "    </tr>\n",
       "    <tr>\n",
       "      <th>25%</th>\n",
       "      <td>10.771429</td>\n",
       "      <td>75.457510</td>\n",
       "    </tr>\n",
       "    <tr>\n",
       "      <th>50%</th>\n",
       "      <td>60.133571</td>\n",
       "      <td>83.624783</td>\n",
       "    </tr>\n",
       "    <tr>\n",
       "      <th>75%</th>\n",
       "      <td>203.273333</td>\n",
       "      <td>102.517857</td>\n",
       "    </tr>\n",
       "    <tr>\n",
       "      <th>max</th>\n",
       "      <td>1714.000000</td>\n",
       "      <td>194.333333</td>\n",
       "    </tr>\n",
       "  </tbody>\n",
       "</table>\n",
       "</div>"
      ],
      "text/plain": [
       "       Applewatch.Steps_LE  Applewatch.Heart_LE\n",
       "count          3656.000000          3656.000000\n",
       "mean            180.246421            91.250821\n",
       "std             269.437917            26.753167\n",
       "min               1.000000            33.000000\n",
       "25%              10.771429            75.457510\n",
       "50%              60.133571            83.624783\n",
       "75%             203.273333           102.517857\n",
       "max            1714.000000           194.333333"
      ]
     },
     "execution_count": 29,
     "metadata": {},
     "output_type": "execute_result"
    }
   ],
   "source": [
    "# to avoid verbose warnings, we need to set bounds on each field we are aggregating\n",
    "# bounds should be reasonable values for the data, \n",
    "# so we can look at the min and max and either use those directly or add some padding\n",
    "data[column_names].describe()"
   ]
  },
  {
   "cell_type": "code",
   "execution_count": 215,
   "metadata": {},
   "outputs": [
    {
     "name": "stdout",
     "output_type": "stream",
     "text": [
      "DP Mean of Applewatch.Steps_LE :  180.0229489826579\n",
      "Mean of Applewatch.Steps_LE :  180.2464207355705\n",
      "DP Median of Applewatch.Steps_LE :  60.176833072324804\n",
      "Median of Applewatch.Steps_LE :  60.13357142857145\n",
      "DP Variance of Applewatch.Steps_LE :  71961.84610915097\n",
      "Variance of Applewatch.Steps_LE :  72596.79100038629\n",
      "DP Mean of Applewatch.Heart_LE :  91.18236455961144\n",
      "Mean of Applewatch.Heart_LE :  91.25082125026667\n",
      "DP Median of Applewatch.Heart_LE :  83.62821952440011\n",
      "Median of Applewatch.Heart_LE :  83.62478281695155\n",
      "DP Variance of Applewatch.Heart_LE :  670.6460387016322\n",
      "Variance of Applewatch.Heart_LE :  715.7319624069286\n"
     ]
    }
   ],
   "source": [
    "bounds = [(1, 1714), (33, 194)]\n",
    "# set epsilon, our privacy budget. Recall that epsilon > 0, and as epsilon increases, privacy decreases\n",
    "eps = 1\n",
    "\n",
    "# here we use DP to estimate the mean, median, and variance of our columns\n",
    "# and compare to the one without DP\n",
    "for i in range(len(column_names)):\n",
    "    print(\"DP Mean of\", column_names[i], \": \", dp.tools.mean(data[column_names[i]], epsilon=eps, bounds=bounds[i]))\n",
    "    print(\"Mean of\", column_names[i], \": \", data[column_names[i]].mean())\n",
    "    print(\"DP Median of\", column_names[i], \": \", dp.tools.median(data[column_names[i]], epsilon=eps, bounds=bounds[i]))\n",
    "    print(\"Median of\", column_names[i], \": \", data[column_names[i]].median())\n",
    "    print(\"DP Variance of\", column_names[i], \": \", dp.tools.var(data[column_names[i]], epsilon=eps, bounds=bounds[i]))\n",
    "    print(\"Variance of\", column_names[i], \": \", data[column_names[i]].var())"
   ]
  },
  {
   "attachments": {},
   "cell_type": "markdown",
   "metadata": {},
   "source": [
    "**Question 3a:** If you run the above code a few times, what do you notice about the difference between the mean, median, and variance and the DP versions of the mean, median, and variance?\n",
    "\n",
    "**Answer:** Variance for DP version is higher, while the other metrics are similar.\n",
    "\n",
    "**Question 3b:** Change the value of epsilon and rerun the code above. What do you notice?\n",
    "\n",
    "**Answer:** Doesn't vary a lot."
   ]
  },
  {
   "attachments": {},
   "cell_type": "markdown",
   "metadata": {},
   "source": [
    "We can also use DP to create a histogram for each column. For histograms, the ordinary histogram without privacy is produced and then the randomization is added to the bin counts afterwards, as seen below."
   ]
  },
  {
   "cell_type": "code",
   "execution_count": 221,
   "metadata": {},
   "outputs": [
    {
     "data": {
      "image/png": "[encoded data removed]",
      "text/plain": [
       "<Figure size 1600x1200 with 2 Axes>"
      ]
     },
     "metadata": {},
     "output_type": "display_data"
    }
   ],
   "source": [
    "eps=0.001\n",
    "fig, axs = plt.subplots(1, 2, sharey=False, figsize=(16, 12))\n",
    "fig.subplots_adjust(hspace=0.35)\n",
    "\n",
    "for i in range(len(column_names)):\n",
    "    ax = axs.flat[i]\n",
    "    ax.set_title(column_names[i])\n",
    "    #ax.set_ylim(0, 1)\n",
    "    _bound = bounds[i]\n",
    "    n_bins = 10\n",
    "    bar_width = (_bound[1] - _bound[0]) / n_bins * 0.9\n",
    "\n",
    "    hist, bins = dp.tools.histogram(data[column_names[i]], range=_bound, density=False, bins=n_bins, epsilon=eps)\n",
    "    ax.bar(bins[:-1] + np.diff(bins), hist, alpha=0.5, width=bar_width, color='orange')\n",
    "    \n",
    "    _ = ax.hist(data[column_names[i]], alpha=0.5, density=False, bins=n_bins, color='cornflowerblue')\n",
    "\n",
    "plt.show()"
   ]
  },
  {
   "attachments": {},
   "cell_type": "markdown",
   "metadata": {},
   "source": [
    "**Question 3c:** Change the value of eps in the code above and rerun it. What do you notice about the histograms as you increase or decrease eps?\n",
    "\n",
    "**Answer:** Increasing eps doesn't change too much, but decreasing eps changes the yellow distribution."
   ]
  },
  {
   "attachments": {},
   "cell_type": "markdown",
   "metadata": {},
   "source": [
    "## 4. Federated Models <a id=\"four\"></a>\n",
    "\n",
    "Federated learning is when models are trained on datasets that have **not** been collected together into a single training set, i.e. the data is federated, or distributed, across devices or databases, and there is no sharing or moving of data between devices. There is a single global model that needs to be trained on the federated data by training smaller models locally on the device itself, and then only the weights (or gradients) will be shared back to a central server that hosts the main global model. Those weights are then aggregated in some way to update the global model.\n",
    "\n",
    "There are a few python libraries that can demonstrate federated learning, but they tend to have a steep learning curve since federated learning is very complex. Instead, let's just implement it from scratch in a simplistic way using the ID that we created from the dataset before."
   ]
  },
  {
   "cell_type": "code",
   "execution_count": 32,
   "metadata": {},
   "outputs": [
    {
     "data": {
      "text/plain": [
       "array(['18_1_180.3', '18_1_183.0', '19_0_172.0', '19_1_180.0',\n",
       "       '19_1_183.0', '20_1_168.0', '20_1_180.0', '20_1_184.0',\n",
       "       '22_0_168.0', '22_1_180.0', '22_1_185.0', '23_0_160.0',\n",
       "       '23_0_177.8', '23_1_178.0', '23_1_181.0', '24_0_165.0',\n",
       "       '25_0_157.5', '25_0_160.0', '25_0_166.0', '25_1_160.0',\n",
       "       '26_1_182.0', '27_1_176.0', '28_1_176.0', '29_0_159.0',\n",
       "       '29_0_163.0', '30_0_164.0', '30_0_168.0', '30_1_182.0',\n",
       "       '31_0_158.0', '31_0_164.0', '31_0_168.0', '31_1_191.0',\n",
       "       '32_1_177.0', '32_1_180.0', '33_0_163.7', '35_0_160.0',\n",
       "       '36_0_157.5', '36_0_172.0', '36_1_173.0', '37_0_157.0',\n",
       "       '37_1_183.0', '39_0_173.0', '46_0_157.5', '48_1_170.0',\n",
       "       '49_0_152.0', '53_0_143.0', '56_1_164.0'], dtype=object)"
      ]
     },
     "execution_count": 32,
     "metadata": {},
     "output_type": "execute_result"
    }
   ],
   "source": [
    "# Find the unique IDs\n",
    "unique_ids = np.unique(X_train_id)\n",
    "unique_ids"
   ]
  },
  {
   "cell_type": "code",
   "execution_count": 33,
   "metadata": {},
   "outputs": [],
   "source": [
    "# Split the data array based on the IDs\n",
    "client_x = [X_train[X_train_id == id_] for id_ in unique_ids]\n",
    "client_y = [y_train[X_train_id == id_] for id_ in unique_ids]"
   ]
  },
  {
   "cell_type": "code",
   "execution_count": 40,
   "metadata": {},
   "outputs": [
    {
     "ename": "NameError",
     "evalue": "name 'split_data' is not defined",
     "output_type": "error",
     "traceback": [
      "\u001b[0;31m---------------------------------------------------------------------------\u001b[0m",
      "\u001b[0;31mNameError\u001b[0m                                 Traceback (most recent call last)",
      "Cell \u001b[0;32mIn[40], line 2\u001b[0m\n\u001b[1;32m      1\u001b[0m \u001b[38;5;66;03m# Print the resulting arrays to check we're doing it right\u001b[39;00m\n\u001b[0;32m----> 2\u001b[0m \u001b[38;5;28;01mfor\u001b[39;00m i, array \u001b[38;5;129;01min\u001b[39;00m \u001b[38;5;28menumerate\u001b[39m(split_data):\n\u001b[1;32m      3\u001b[0m     \u001b[38;5;28mprint\u001b[39m(\u001b[38;5;124mf\u001b[39m\u001b[38;5;124m\"\u001b[39m\u001b[38;5;124mArray for ID \u001b[39m\u001b[38;5;132;01m{\u001b[39;00munique_ids[i]\u001b[38;5;132;01m}\u001b[39;00m\u001b[38;5;124m:\u001b[39m\u001b[38;5;130;01m\\n\u001b[39;00m\u001b[38;5;132;01m{\u001b[39;00marray\u001b[38;5;132;01m}\u001b[39;00m\u001b[38;5;124m\"\u001b[39m)\n",
      "\u001b[0;31mNameError\u001b[0m: name 'split_data' is not defined"
     ]
    }
   ],
   "source": [
    "# Print the resulting arrays to check we're doing it right\n",
    "for i, array in enumerate(split_data):\n",
    "    print(f\"Array for ID {unique_ids[i]}:\\n{array}\")"
   ]
  },
  {
   "attachments": {},
   "cell_type": "markdown",
   "metadata": {},
   "source": [
    "In this next step, now that we've divided our training data into several training sets using the unique IDs, is to train LASSO models using only the data from each ID (ignoring the data in the test set). Then, we can implement the simplest version of federated learning called FederatedAveraging, which you can read about [here](https://arxiv.org/pdf/1602.05629.pdf). In a nutshell, we let each *client* or device train a local model, in parallel, and return the *weights* or coefficients to the server. Then, the server takes a weighted average of the coefficients, weighted by the size of the data on each client.\n",
    "\n",
    "In the code below, we are creating a simple function that just trains each model separately and aggregates the results, with no respect for the whole client-server relationship. But that's ok! If you'd prefer a slightly more realistic scenario you can look at the [`flwr`](https://flower.ai/) library which will actually simulate the different clients and the server by running them all in separate terminals."
   ]
  },
  {
   "cell_type": "code",
   "execution_count": 41,
   "metadata": {},
   "outputs": [
    {
     "data": {
      "text/plain": [
       "array([[ 0.00207591,  0.00276534,  0.00156234,  0.00165072,  0.00374329,\n",
       "        -0.0550562 ,  0.00162568,  0.01513131, -0.00320578, -0.0001804 ,\n",
       "        -0.00099188,  0.02094537, -0.0610056 , -0.06145467,  0.00679805,\n",
       "         0.00346918]])"
      ]
     },
     "execution_count": 41,
     "metadata": {},
     "output_type": "execute_result"
    }
   ],
   "source": [
    "# Define the federated learning function\n",
    "def federated_learning(client_xdata, client_ydata):\n",
    "    # Train local models on client data\n",
    "    local_weights = []\n",
    "    local_n = []\n",
    "    for X, y in zip(client_x, client_y):\n",
    "        local_n.append(X.shape[0])\n",
    "        local_model = LogisticRegression(solver='liblinear', multi_class='auto', C=.01)\n",
    "        local_model.fit(X, y)\n",
    "        local_weights.append(local_model.coef_)\n",
    "\n",
    "    return local_weights, local_n\n",
    "\n",
    "# Run the federated learning process\n",
    "global_model, local_ns = federated_learning(client_x, client_y)\n",
    "\n",
    "global_model = np.array(global_model).reshape((47,16))\n",
    "federated_coefs = np.sum(global_model * np.array(local_ns)[:, None], axis=0, keepdims=True)/X_train.shape[0]\n",
    "federated_coefs"
   ]
  },
  {
   "attachments": {},
   "cell_type": "markdown",
   "metadata": {},
   "source": [
    "Once we have our coefficients estimated using the FederatedAveraging approach, we can take a look at them and compare them to the coefficients we obtained from our centralized model."
   ]
  },
  {
   "cell_type": "code",
   "execution_count": 42,
   "metadata": {},
   "outputs": [
    {
     "data": {
      "text/plain": [
       "0.04506659358314971"
      ]
     },
     "execution_count": 42,
     "metadata": {},
     "output_type": "execute_result"
    }
   ],
   "source": [
    "np.mean(np.abs(l_model.coef_-federated_coefs))"
   ]
  },
  {
   "cell_type": "code",
   "execution_count": 43,
   "metadata": {},
   "outputs": [
    {
     "data": {
      "text/plain": [
       "array([[ 0.   ,  0.   ,  0.   ,  0.   ,  0.   ,  0.   ,  0.   ,  0.   ,\n",
       "         0.   ,  0.   ,  0.   ,  0.002, -0.015, -0.574,  0.059,  0.   ]])"
      ]
     },
     "execution_count": 43,
     "metadata": {},
     "output_type": "execute_result"
    }
   ],
   "source": [
    "np.round(l_model.coef_, 3)"
   ]
  },
  {
   "cell_type": "code",
   "execution_count": 44,
   "metadata": {},
   "outputs": [
    {
     "data": {
      "text/plain": [
       "array([[ 0.002,  0.003,  0.002,  0.002,  0.004, -0.055,  0.002,  0.015,\n",
       "        -0.003, -0.   , -0.001,  0.021, -0.061, -0.061,  0.007,  0.003]])"
      ]
     },
     "execution_count": 44,
     "metadata": {},
     "output_type": "execute_result"
    }
   ],
   "source": [
    "np.round(federated_coefs, 3)"
   ]
  },
  {
   "attachments": {},
   "cell_type": "markdown",
   "metadata": {},
   "source": [
    "**Question 4a:** What did you notice about the coefficients estimated by the federated model versus the centralized model?\n",
    "\n",
    "**Answer:** federated model has coefficients close to 0 while centralized model sets many coefficients as 0.\n",
    "\n",
    "**Question 4b:** Why might our federated model be so much different than our centralized model? Please do not just say \"because we don't have enough user data\". That part is a given. Suppose we did have more user's devices, then explain why it might take so long for the federated model to converge to something resembling the centralized model.\n",
    "\n",
    "**Answer:** Federated model requires each device typically has its own local dataset which doesn't necessarily represent the whole data set while centrallized method takes into account of all data available."
   ]
  },
  {
   "attachments": {},
   "cell_type": "markdown",
   "metadata": {},
   "source": [
    "## 5. Conclusion <a id=\"five\"></a>\n",
    "\n",
    "In the above notebook we were able to demonstrate in simple terms the concepts of DP and FL on a dataset of Apple Watch data for multiple users. Remember that we implemented the most simplistic versions of both of these concepts, and we did everything on our local machines. These are fairly complex topics, and FL in particular can be extremely difficult to implement in a real production environment, hence the main reason it is not more popularly used in industry outside of larger tech companies that can afford to hire people with expertise in these areas.\n",
    "\n",
    "Although we did not discuss it in much detail, there are weaknesses with the amount of privacy that is guaranteed by FL and DP. There may still be ways to reconstruct raw data instances with FL, and with DP the amount of privacy is dependent on $\\epsilon$. In FL, we could go one step further in increasing privacy by implementing DP on the clients so that the actual weights sent back to the central server are differentially private, making it even more difficult to identify individual user's and their data.\n",
    "\n",
    "### Privacy as Civil Right\n",
    "\n",
    "**Question 5:** Now let's wrap things up by referring back to one of the papers that we read, Privacy as Civil Right by Alvaro M Bedoya. Please relate what was written in this piece to something you've personally experienced. Be sure to tie your experience to specific examples given in the text. I will be grading this one based on: (1) the personal experience you describe; (2) the clarity and organization of your response; and (3) the integration of the reading into your response. This does not have to be a formal essay with an introduction paragraph, 3 supporting paragraphs, and a conclusion paragraph, but if that helps you organize your thoughts, then feel free to write in that way. \n",
    "\n",
    "Write your response below."
   ]
  }
 ],
 "metadata": {
  "kernelspec": {
   "display_name": "ethics",
   "language": "python",
   "name": "python3"
  },
  "language_info": {
   "codemirror_mode": {
    "name": "ipython",
    "version": 3
   },
   "file_extension": ".py",
   "mimetype": "text/x-python",
   "name": "python",
   "nbconvert_exporter": "python",
   "pygments_lexer": "ipython3",
   "version": "3.11.0"
  },
  "orig_nbformat": 4,
  "vscode": {
   "interpreter": {
    "hash": "4e13e83e0faddf0c96d86674df730069bc557d6e5e841d13b0ea9a2ed73c7a44"
   }
  }
 },
 "nbformat": 4,
 "nbformat_minor": 2
}
